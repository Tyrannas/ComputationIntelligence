{
 "cells": [
  {
   "cell_type": "code",
   "execution_count": null,
   "metadata": {
    "collapsed": false,
    "deletable": true,
    "editable": true
   },
   "outputs": [],
   "source": [
    "import numpy as np \n",
    "\n",
    "# load data\n",
    "X = np.loadtxt('data/X.data', skiprows = 0) # unlabeled data\n",
    "a = np.loadtxt('data/a.data', skiprows = 0) # label: a\n",
    "e = np.loadtxt('data/e.data', skiprows = 0) # label: e\n",
    "i = np.loadtxt('data/i.data', skiprows = 0) # label: i\n",
    "o = np.loadtxt('data/o.data', skiprows = 0) # label: o\n",
    "y = np.loadtxt('data/y.data', skiprows = 0) # label: y\n",
    "\n",
    "# 1.) EM algorithm for GMM:\n",
    "# TODO\n",
    "M = 5\n",
    "alpha_0 = np.array([0.1,0.2,0.3,0.2,0.2])\n",
    "mu_0 = np.random.random((5,2)) * 1000\n",
    "Sigma_0 = np.identity(M)\n",
    "max_iter = 10\n",
    "\n",
    "# alpha, mu, Sigma, L =  EM(X[0].T, M, alpha_0, mu_0, Sigma_0, max_iter)\n",
    "# print(alpha,mu,Sigma,L)\n",
    "# 2.) K-means algorithm:\n",
    "# mu, D = k_means(X, M, mu_0, max_iter)\n",
    "# print(mu, D)\n",
    "\n",
    "# 3.) Sampling from GMM\n",
    "# TODO\n"
   ]
  },
  {
   "cell_type": "code",
   "execution_count": null,
   "metadata": {
    "collapsed": false,
    "deletable": true,
    "editable": true
   },
   "outputs": [],
   "source": [
    "k_means(X, M, mu_0, max_iter)"
   ]
  },
  {
   "cell_type": "code",
   "execution_count": null,
   "metadata": {
    "collapsed": false,
    "deletable": true,
    "editable": true
   },
   "outputs": [],
   "source": [
    "def k_means(X, M, mu_0, max_iter):\n",
    "    mu = mu_0\n",
    "    D = np.empty(max_iter)\n",
    "    # for every iteration\n",
    "    for it in range(max_iter):\n",
    "        mu_temp = [[] for i in range(M)]\n",
    "        # for every value\n",
    "        for x in X:\n",
    "            arr = []\n",
    "            # for every center in mu\n",
    "            for m in mu:\n",
    "                # lets compute the distance between the center and the value\n",
    "                arr.append(np.absolute(np.sum(np.array(x) - np.array(m)))\n",
    "            print(mu)\n",
    "            print(x)\n",
    "            print(np.min(arr))\n",
    "            print(arr)\n",
    "            print(np.argmin(arr))\n",
    "            input(\"Press Enter to continue...\")\n",
    "            # store the minimum distance in D\n",
    "            D[it] += min(arr)\n",
    "            # store x in the center's array\n",
    "            mu_temp[np.argmin(arr)].append(x)\n",
    "        # update mu\n",
    "        mu = [np.mean(m) for m in mu_temp]\n",
    "    return mu, D"
   ]
  }
 ],
 "metadata": {
  "kernelspec": {
   "display_name": "Python 3",
   "language": "python",
   "name": "python3"
  },
  "language_info": {
   "codemirror_mode": {
    "name": "ipython",
    "version": 3
   },
   "file_extension": ".py",
   "mimetype": "text/x-python",
   "name": "python",
   "nbconvert_exporter": "python",
   "pygments_lexer": "ipython3",
   "version": "3.5.2"
  }
 },
 "nbformat": 4,
 "nbformat_minor": 2
}
