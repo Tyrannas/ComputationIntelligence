{
 "cells": [
  {
   "cell_type": "code",
   "execution_count": 47,
   "metadata": {
    "collapsed": false
   },
   "outputs": [],
   "source": [
    "import numpy as np\n",
    "from numpy.linalg import pinv\n",
    "import matplotlib.pyplot as plt\n",
    "x = np.array([[0,1,2]]).T\n",
    "y = np.array([1,2,3])"
   ]
  },
  {
   "cell_type": "markdown",
   "metadata": {},
   "source": [
    "## I: Linear regression"
   ]
  },
  {
   "cell_type": "markdown",
   "metadata": {},
   "source": [
    "### 1: Create the design matrix"
   ]
  },
  {
   "cell_type": "code",
   "execution_count": 26,
   "metadata": {
    "collapsed": true
   },
   "outputs": [],
   "source": [
    "def design_matrix(x, degree):\n",
    "    return np.hstack([np.power(x, i) for i in range(degree + 1)])\n",
    "    "
   ]
  },
  {
   "cell_type": "code",
   "execution_count": 27,
   "metadata": {
    "collapsed": false
   },
   "outputs": [
    {
     "name": "stdout",
     "output_type": "stream",
     "text": [
      "[[1 0 0]\n",
      " [1 1 1]\n",
      " [1 2 4]]\n"
     ]
    }
   ],
   "source": [
    "test = design_matrix(x,2)\n",
    "print(test)"
   ]
  },
  {
   "cell_type": "markdown",
   "metadata": {},
   "source": [
    "### 2: Create the training function"
   ]
  },
  {
   "cell_type": "code",
   "execution_count": 28,
   "metadata": {
    "collapsed": true
   },
   "outputs": [],
   "source": [
    "def train(x, y, degree):\n",
    "    X = design_matrix(x, degree)\n",
    "    theta_opt = pinv(X).dot(y)\n",
    "    return theta_opt"
   ]
  },
  {
   "cell_type": "code",
   "execution_count": 29,
   "metadata": {
    "collapsed": false
   },
   "outputs": [],
   "source": [
    "theta = train(x, y, 2)"
   ]
  },
  {
   "cell_type": "code",
   "execution_count": 36,
   "metadata": {
    "collapsed": true
   },
   "outputs": [],
   "source": [
    "def compute_error(theta, degree, x, y):\n",
    "    X = design_matrix(x, degree)\n",
    "    y_predict = X.T.dot(theta)\n",
    "    print(y_predict)\n",
    "    err = np.subtract(y_predict,y)\n",
    "    err2 = np.power(err,2)\n",
    "    return np.mean(err2)"
   ]
  },
  {
   "cell_type": "code",
   "execution_count": 38,
   "metadata": {
    "collapsed": false
   },
   "outputs": [
    {
     "name": "stdout",
     "output_type": "stream",
     "text": [
      "[ 2.  1.  1.]\n",
      "2.0\n"
     ]
    }
   ],
   "source": [
    "err = compute_error(theta, 2, x, y)\n",
    "print(err)"
   ]
  },
  {
   "cell_type": "markdown",
   "metadata": {},
   "source": [
    "### 3: Test of the function \n",
    "if we try to minimize the train error ==> overfitting, perfect function with d = 30 for this set of datas, but inapropriate for the others sets (test_err: 366141.235941). Therefore we rather try to minimize the error on the validating set. We find d = 13 and a test_err: 0.383701604651. "
   ]
  },
  {
   "cell_type": "markdown",
   "metadata": {},
   "source": [
    "## II Linear regression with radial functions"
   ]
  },
  {
   "cell_type": "markdown",
   "metadata": {},
   "source": [
    "Create the centers and compute sigma"
   ]
  },
  {
   "cell_type": "code",
   "execution_count": 57,
   "metadata": {
    "collapsed": true
   },
   "outputs": [],
   "source": [
    "def get_centers_and_sigma(n_centers):\n",
    "    centers = np.linspace(-1, 1, n_centers)\n",
    "    sigma = 2 / float(n_centers)\n",
    "    return centers, sigma\n",
    "c, s = get_centers_and_sigma(4)"
   ]
  },
  {
   "cell_type": "markdown",
   "metadata": {},
   "source": [
    "Design the matrix with the given centers and sigma"
   ]
  },
  {
   "cell_type": "code",
   "execution_count": 59,
   "metadata": {
    "collapsed": false
   },
   "outputs": [
    {
     "name": "stdout",
     "output_type": "stream",
     "text": [
      "[[ 1.          1.          0.36787944]\n",
      " [ 1.          0.36787944  1.        ]\n",
      " [ 1.          0.01831564  0.36787944]]\n"
     ]
    }
   ],
   "source": [
    "def design_matrix(x, centers, sigma):\n",
    "    X = np.hstack([np.exp((-(x - c)**2)/(2*(sigma**2))) for c in centers])\n",
    "    return np.hstack((np.ones((len(x), 1)), X))\n",
    "\n",
    "print(design_matrix(x, [0,1], 1/np.sqrt(2)))"
   ]
  },
  {
   "cell_type": "markdown",
   "metadata": {},
   "source": [
    "Compute the analytical solution: "
   ]
  },
  {
   "cell_type": "code",
   "execution_count": 64,
   "metadata": {
    "collapsed": false
   },
   "outputs": [
    {
     "name": "stdout",
     "output_type": "stream",
     "text": [
      "[ 3.0668276  -0.17395728 -1.0558404  -1.41933333 -0.45310326]\n"
     ]
    }
   ],
   "source": [
    "def train(x, y, n_center):\n",
    "    centers, sigma = get_centers_and_sigma(n_center)\n",
    "    X = design_matrix(x, centers, sigma)\n",
    "    theta_opt = pinv(X).dot(y)  \n",
    "\n",
    "    return theta_opt\n",
    "print(train(x, y, 4))"
   ]
  },
  {
   "cell_type": "markdown",
   "metadata": {},
   "source": [
    "Compute the error:"
   ]
  },
  {
   "cell_type": "code",
   "execution_count": 66,
   "metadata": {
    "collapsed": true
   },
   "outputs": [],
   "source": [
    "def compute_error(theta, n_centers, x, y):\n",
    "    centers, sigma = get_centers_and_sigma(n_centers)\n",
    "    X = design_matrix(x, centers, sigma)\n",
    "    y_predict = X.T.dot(theta)\n",
    "    err = np.subtract(y_predict,y)\n",
    "    err2 = np.power(err,2)\n",
    "    return np.mean(err2)"
   ]
  },
  {
   "cell_type": "markdown",
   "metadata": {},
   "source": [
    "### 3: Test of the function \n",
    "n = 40 is the best for training datas, but test err: 181.671826144\n",
    "n = 9 is the best for validation datas, test_err: 0.337013008241\n",
    "TODO: save the graphs"
   ]
  }
 ],
 "metadata": {
  "kernelspec": {
   "display_name": "Python 3",
   "language": "python",
   "name": "python3"
  },
  "language_info": {
   "codemirror_mode": {
    "name": "ipython",
    "version": 3
   },
   "file_extension": ".py",
   "mimetype": "text/x-python",
   "name": "python",
   "nbconvert_exporter": "python",
   "pygments_lexer": "ipython3",
   "version": "3.5.2"
  }
 },
 "nbformat": 4,
 "nbformat_minor": 2
}
